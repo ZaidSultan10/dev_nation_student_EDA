{
 "cells": [
  {
   "cell_type": "code",
   "execution_count": 82,
   "id": "39055109",
   "metadata": {},
   "outputs": [],
   "source": [
    "\n",
    "\n",
    "import pandas as pd\n",
    "import numpy as np\n",
    "import matplotlib.pyplot\n",
    "import seaborn as sns\n",
    "import warnings\n",
    "warnings.filterwarnings('ignore')"
   ]
  },
  {
   "cell_type": "code",
   "execution_count": 83,
   "id": "070b26de",
   "metadata": {},
   "outputs": [],
   "source": [
    "#Q1\n",
    "\n",
    "disney_raw_df = pd.read_csv('disney_movies_total_gross.csv')"
   ]
  },
  {
   "cell_type": "code",
   "execution_count": 84,
   "id": "052d0630",
   "metadata": {},
   "outputs": [
    {
     "data": {
      "text/html": [
       "<div>\n",
       "<style scoped>\n",
       "    .dataframe tbody tr th:only-of-type {\n",
       "        vertical-align: middle;\n",
       "    }\n",
       "\n",
       "    .dataframe tbody tr th {\n",
       "        vertical-align: top;\n",
       "    }\n",
       "\n",
       "    .dataframe thead th {\n",
       "        text-align: right;\n",
       "    }\n",
       "</style>\n",
       "<table border=\"1\" class=\"dataframe\">\n",
       "  <thead>\n",
       "    <tr style=\"text-align: right;\">\n",
       "      <th></th>\n",
       "      <th>movie_title</th>\n",
       "      <th>release_date</th>\n",
       "      <th>genre</th>\n",
       "      <th>mpaa_rating</th>\n",
       "      <th>total_gross</th>\n",
       "      <th>inflation_adjusted_gross</th>\n",
       "    </tr>\n",
       "  </thead>\n",
       "  <tbody>\n",
       "    <tr>\n",
       "      <th>0</th>\n",
       "      <td>Snow White and the Seven Dwarfs</td>\n",
       "      <td>1937-12-21</td>\n",
       "      <td>Musical</td>\n",
       "      <td>G</td>\n",
       "      <td>184925485</td>\n",
       "      <td>5228953251</td>\n",
       "    </tr>\n",
       "    <tr>\n",
       "      <th>1</th>\n",
       "      <td>Pinocchio</td>\n",
       "      <td>1940-02-09</td>\n",
       "      <td>Adventure</td>\n",
       "      <td>G</td>\n",
       "      <td>84300000</td>\n",
       "      <td>2188229052</td>\n",
       "    </tr>\n",
       "    <tr>\n",
       "      <th>2</th>\n",
       "      <td>Fantasia</td>\n",
       "      <td>1940-11-13</td>\n",
       "      <td>Musical</td>\n",
       "      <td>G</td>\n",
       "      <td>83320000</td>\n",
       "      <td>2187090808</td>\n",
       "    </tr>\n",
       "    <tr>\n",
       "      <th>3</th>\n",
       "      <td>Song of the South</td>\n",
       "      <td>1946-11-12</td>\n",
       "      <td>Adventure</td>\n",
       "      <td>G</td>\n",
       "      <td>65000000</td>\n",
       "      <td>1078510579</td>\n",
       "    </tr>\n",
       "    <tr>\n",
       "      <th>4</th>\n",
       "      <td>Cinderella</td>\n",
       "      <td>1950-02-15</td>\n",
       "      <td>Drama</td>\n",
       "      <td>G</td>\n",
       "      <td>85000000</td>\n",
       "      <td>920608730</td>\n",
       "    </tr>\n",
       "  </tbody>\n",
       "</table>\n",
       "</div>"
      ],
      "text/plain": [
       "                       movie_title release_date      genre mpaa_rating  \\\n",
       "0  Snow White and the Seven Dwarfs   1937-12-21    Musical           G   \n",
       "1                        Pinocchio   1940-02-09  Adventure           G   \n",
       "2                         Fantasia   1940-11-13    Musical           G   \n",
       "3                Song of the South   1946-11-12  Adventure           G   \n",
       "4                       Cinderella   1950-02-15      Drama           G   \n",
       "\n",
       "   total_gross  inflation_adjusted_gross  \n",
       "0    184925485                5228953251  \n",
       "1     84300000                2188229052  \n",
       "2     83320000                2187090808  \n",
       "3     65000000                1078510579  \n",
       "4     85000000                 920608730  "
      ]
     },
     "execution_count": 84,
     "metadata": {},
     "output_type": "execute_result"
    }
   ],
   "source": [
    "disney_raw_df.head()"
   ]
  },
  {
   "cell_type": "code",
   "execution_count": 85,
   "id": "8dd7245d",
   "metadata": {},
   "outputs": [],
   "source": [
    "disney_final_df = disney_raw_df.rename(columns = {'inflation_adjusted_gross':'adjusted_gross'})"
   ]
  },
  {
   "cell_type": "code",
   "execution_count": 86,
   "id": "56822d37",
   "metadata": {},
   "outputs": [
    {
     "data": {
      "text/html": [
       "<div>\n",
       "<style scoped>\n",
       "    .dataframe tbody tr th:only-of-type {\n",
       "        vertical-align: middle;\n",
       "    }\n",
       "\n",
       "    .dataframe tbody tr th {\n",
       "        vertical-align: top;\n",
       "    }\n",
       "\n",
       "    .dataframe thead th {\n",
       "        text-align: right;\n",
       "    }\n",
       "</style>\n",
       "<table border=\"1\" class=\"dataframe\">\n",
       "  <thead>\n",
       "    <tr style=\"text-align: right;\">\n",
       "      <th></th>\n",
       "      <th>movie_title</th>\n",
       "      <th>release_date</th>\n",
       "      <th>genre</th>\n",
       "      <th>mpaa_rating</th>\n",
       "      <th>total_gross</th>\n",
       "      <th>adjusted_gross</th>\n",
       "    </tr>\n",
       "  </thead>\n",
       "  <tbody>\n",
       "    <tr>\n",
       "      <th>0</th>\n",
       "      <td>Snow White and the Seven Dwarfs</td>\n",
       "      <td>1937-12-21</td>\n",
       "      <td>Musical</td>\n",
       "      <td>G</td>\n",
       "      <td>184925485</td>\n",
       "      <td>5228953251</td>\n",
       "    </tr>\n",
       "    <tr>\n",
       "      <th>1</th>\n",
       "      <td>Pinocchio</td>\n",
       "      <td>1940-02-09</td>\n",
       "      <td>Adventure</td>\n",
       "      <td>G</td>\n",
       "      <td>84300000</td>\n",
       "      <td>2188229052</td>\n",
       "    </tr>\n",
       "    <tr>\n",
       "      <th>2</th>\n",
       "      <td>Fantasia</td>\n",
       "      <td>1940-11-13</td>\n",
       "      <td>Musical</td>\n",
       "      <td>G</td>\n",
       "      <td>83320000</td>\n",
       "      <td>2187090808</td>\n",
       "    </tr>\n",
       "    <tr>\n",
       "      <th>3</th>\n",
       "      <td>Song of the South</td>\n",
       "      <td>1946-11-12</td>\n",
       "      <td>Adventure</td>\n",
       "      <td>G</td>\n",
       "      <td>65000000</td>\n",
       "      <td>1078510579</td>\n",
       "    </tr>\n",
       "    <tr>\n",
       "      <th>4</th>\n",
       "      <td>Cinderella</td>\n",
       "      <td>1950-02-15</td>\n",
       "      <td>Drama</td>\n",
       "      <td>G</td>\n",
       "      <td>85000000</td>\n",
       "      <td>920608730</td>\n",
       "    </tr>\n",
       "  </tbody>\n",
       "</table>\n",
       "</div>"
      ],
      "text/plain": [
       "                       movie_title release_date      genre mpaa_rating  \\\n",
       "0  Snow White and the Seven Dwarfs   1937-12-21    Musical           G   \n",
       "1                        Pinocchio   1940-02-09  Adventure           G   \n",
       "2                         Fantasia   1940-11-13    Musical           G   \n",
       "3                Song of the South   1946-11-12  Adventure           G   \n",
       "4                       Cinderella   1950-02-15      Drama           G   \n",
       "\n",
       "   total_gross  adjusted_gross  \n",
       "0    184925485      5228953251  \n",
       "1     84300000      2188229052  \n",
       "2     83320000      2187090808  \n",
       "3     65000000      1078510579  \n",
       "4     85000000       920608730  "
      ]
     },
     "execution_count": 86,
     "metadata": {},
     "output_type": "execute_result"
    }
   ],
   "source": [
    "disney_final_df.head()"
   ]
  },
  {
   "cell_type": "code",
   "execution_count": 87,
   "id": "2f07696a",
   "metadata": {},
   "outputs": [],
   "source": [
    "disney_final_df.sort_values(by=['adjusted_gross'], ascending=False ,inplace=True)"
   ]
  },
  {
   "cell_type": "code",
   "execution_count": 88,
   "id": "ea53b409",
   "metadata": {},
   "outputs": [],
   "source": [
    "disney_sorted_df = disney_final_df.head(10)"
   ]
  },
  {
   "cell_type": "code",
   "execution_count": 89,
   "id": "1307a56e",
   "metadata": {},
   "outputs": [
    {
     "data": {
      "text/html": [
       "<div>\n",
       "<style scoped>\n",
       "    .dataframe tbody tr th:only-of-type {\n",
       "        vertical-align: middle;\n",
       "    }\n",
       "\n",
       "    .dataframe tbody tr th {\n",
       "        vertical-align: top;\n",
       "    }\n",
       "\n",
       "    .dataframe thead th {\n",
       "        text-align: right;\n",
       "    }\n",
       "</style>\n",
       "<table border=\"1\" class=\"dataframe\">\n",
       "  <thead>\n",
       "    <tr style=\"text-align: right;\">\n",
       "      <th></th>\n",
       "      <th>movie_title</th>\n",
       "      <th>release_date</th>\n",
       "      <th>genre</th>\n",
       "      <th>mpaa_rating</th>\n",
       "      <th>total_gross</th>\n",
       "      <th>adjusted_gross</th>\n",
       "    </tr>\n",
       "  </thead>\n",
       "  <tbody>\n",
       "    <tr>\n",
       "      <th>0</th>\n",
       "      <td>Snow White and the Seven Dwarfs</td>\n",
       "      <td>1937-12-21</td>\n",
       "      <td>Musical</td>\n",
       "      <td>G</td>\n",
       "      <td>184925485</td>\n",
       "      <td>5228953251</td>\n",
       "    </tr>\n",
       "    <tr>\n",
       "      <th>1</th>\n",
       "      <td>Pinocchio</td>\n",
       "      <td>1940-02-09</td>\n",
       "      <td>Adventure</td>\n",
       "      <td>G</td>\n",
       "      <td>84300000</td>\n",
       "      <td>2188229052</td>\n",
       "    </tr>\n",
       "    <tr>\n",
       "      <th>2</th>\n",
       "      <td>Fantasia</td>\n",
       "      <td>1940-11-13</td>\n",
       "      <td>Musical</td>\n",
       "      <td>G</td>\n",
       "      <td>83320000</td>\n",
       "      <td>2187090808</td>\n",
       "    </tr>\n",
       "    <tr>\n",
       "      <th>8</th>\n",
       "      <td>101 Dalmatians</td>\n",
       "      <td>1961-01-25</td>\n",
       "      <td>Comedy</td>\n",
       "      <td>G</td>\n",
       "      <td>153000000</td>\n",
       "      <td>1362870985</td>\n",
       "    </tr>\n",
       "    <tr>\n",
       "      <th>6</th>\n",
       "      <td>Lady and the Tramp</td>\n",
       "      <td>1955-06-22</td>\n",
       "      <td>Drama</td>\n",
       "      <td>G</td>\n",
       "      <td>93600000</td>\n",
       "      <td>1236035515</td>\n",
       "    </tr>\n",
       "    <tr>\n",
       "      <th>3</th>\n",
       "      <td>Song of the South</td>\n",
       "      <td>1946-11-12</td>\n",
       "      <td>Adventure</td>\n",
       "      <td>G</td>\n",
       "      <td>65000000</td>\n",
       "      <td>1078510579</td>\n",
       "    </tr>\n",
       "    <tr>\n",
       "      <th>564</th>\n",
       "      <td>Star Wars Ep. VII: The Force Awakens</td>\n",
       "      <td>2015-12-18</td>\n",
       "      <td>Adventure</td>\n",
       "      <td>PG-13</td>\n",
       "      <td>936662225</td>\n",
       "      <td>936662225</td>\n",
       "    </tr>\n",
       "    <tr>\n",
       "      <th>4</th>\n",
       "      <td>Cinderella</td>\n",
       "      <td>1950-02-15</td>\n",
       "      <td>Drama</td>\n",
       "      <td>G</td>\n",
       "      <td>85000000</td>\n",
       "      <td>920608730</td>\n",
       "    </tr>\n",
       "    <tr>\n",
       "      <th>13</th>\n",
       "      <td>The Jungle Book</td>\n",
       "      <td>1967-10-18</td>\n",
       "      <td>Musical</td>\n",
       "      <td>Not Rated</td>\n",
       "      <td>141843000</td>\n",
       "      <td>789612346</td>\n",
       "    </tr>\n",
       "    <tr>\n",
       "      <th>179</th>\n",
       "      <td>The Lion King</td>\n",
       "      <td>1994-06-15</td>\n",
       "      <td>Adventure</td>\n",
       "      <td>G</td>\n",
       "      <td>422780140</td>\n",
       "      <td>761640898</td>\n",
       "    </tr>\n",
       "  </tbody>\n",
       "</table>\n",
       "</div>"
      ],
      "text/plain": [
       "                              movie_title release_date      genre mpaa_rating  \\\n",
       "0         Snow White and the Seven Dwarfs   1937-12-21    Musical           G   \n",
       "1                               Pinocchio   1940-02-09  Adventure           G   \n",
       "2                                Fantasia   1940-11-13    Musical           G   \n",
       "8                          101 Dalmatians   1961-01-25     Comedy           G   \n",
       "6                      Lady and the Tramp   1955-06-22      Drama           G   \n",
       "3                       Song of the South   1946-11-12  Adventure           G   \n",
       "564  Star Wars Ep. VII: The Force Awakens   2015-12-18  Adventure       PG-13   \n",
       "4                              Cinderella   1950-02-15      Drama           G   \n",
       "13                        The Jungle Book   1967-10-18    Musical   Not Rated   \n",
       "179                         The Lion King   1994-06-15  Adventure           G   \n",
       "\n",
       "     total_gross  adjusted_gross  \n",
       "0      184925485      5228953251  \n",
       "1       84300000      2188229052  \n",
       "2       83320000      2187090808  \n",
       "8      153000000      1362870985  \n",
       "6       93600000      1236035515  \n",
       "3       65000000      1078510579  \n",
       "564    936662225       936662225  \n",
       "4       85000000       920608730  \n",
       "13     141843000       789612346  \n",
       "179    422780140       761640898  "
      ]
     },
     "execution_count": 89,
     "metadata": {},
     "output_type": "execute_result"
    }
   ],
   "source": [
    "disney_sorted_df"
   ]
  },
  {
   "cell_type": "code",
   "execution_count": 90,
   "id": "b7506c27",
   "metadata": {},
   "outputs": [],
   "source": [
    "import datetime as dt\n",
    "\n",
    "disney_sorted_df['release_date'] = pd.to_datetime(disney_sorted_df['release_date'] )\n",
    "\n",
    "disney_sorted_df['year'] = disney_sorted_df['release_date'].dt.year\n"
   ]
  },
  {
   "cell_type": "code",
   "execution_count": 91,
   "id": "e45b91e4",
   "metadata": {},
   "outputs": [
    {
     "data": {
      "text/html": [
       "<div>\n",
       "<style scoped>\n",
       "    .dataframe tbody tr th:only-of-type {\n",
       "        vertical-align: middle;\n",
       "    }\n",
       "\n",
       "    .dataframe tbody tr th {\n",
       "        vertical-align: top;\n",
       "    }\n",
       "\n",
       "    .dataframe thead th {\n",
       "        text-align: right;\n",
       "    }\n",
       "</style>\n",
       "<table border=\"1\" class=\"dataframe\">\n",
       "  <thead>\n",
       "    <tr style=\"text-align: right;\">\n",
       "      <th></th>\n",
       "      <th>movie_title</th>\n",
       "      <th>release_date</th>\n",
       "      <th>genre</th>\n",
       "      <th>mpaa_rating</th>\n",
       "      <th>total_gross</th>\n",
       "      <th>adjusted_gross</th>\n",
       "      <th>year</th>\n",
       "    </tr>\n",
       "  </thead>\n",
       "  <tbody>\n",
       "    <tr>\n",
       "      <th>0</th>\n",
       "      <td>Snow White and the Seven Dwarfs</td>\n",
       "      <td>1937-12-21</td>\n",
       "      <td>Musical</td>\n",
       "      <td>G</td>\n",
       "      <td>184925485</td>\n",
       "      <td>5228953251</td>\n",
       "      <td>1937</td>\n",
       "    </tr>\n",
       "    <tr>\n",
       "      <th>1</th>\n",
       "      <td>Pinocchio</td>\n",
       "      <td>1940-02-09</td>\n",
       "      <td>Adventure</td>\n",
       "      <td>G</td>\n",
       "      <td>84300000</td>\n",
       "      <td>2188229052</td>\n",
       "      <td>1940</td>\n",
       "    </tr>\n",
       "    <tr>\n",
       "      <th>2</th>\n",
       "      <td>Fantasia</td>\n",
       "      <td>1940-11-13</td>\n",
       "      <td>Musical</td>\n",
       "      <td>G</td>\n",
       "      <td>83320000</td>\n",
       "      <td>2187090808</td>\n",
       "      <td>1940</td>\n",
       "    </tr>\n",
       "    <tr>\n",
       "      <th>8</th>\n",
       "      <td>101 Dalmatians</td>\n",
       "      <td>1961-01-25</td>\n",
       "      <td>Comedy</td>\n",
       "      <td>G</td>\n",
       "      <td>153000000</td>\n",
       "      <td>1362870985</td>\n",
       "      <td>1961</td>\n",
       "    </tr>\n",
       "    <tr>\n",
       "      <th>6</th>\n",
       "      <td>Lady and the Tramp</td>\n",
       "      <td>1955-06-22</td>\n",
       "      <td>Drama</td>\n",
       "      <td>G</td>\n",
       "      <td>93600000</td>\n",
       "      <td>1236035515</td>\n",
       "      <td>1955</td>\n",
       "    </tr>\n",
       "    <tr>\n",
       "      <th>3</th>\n",
       "      <td>Song of the South</td>\n",
       "      <td>1946-11-12</td>\n",
       "      <td>Adventure</td>\n",
       "      <td>G</td>\n",
       "      <td>65000000</td>\n",
       "      <td>1078510579</td>\n",
       "      <td>1946</td>\n",
       "    </tr>\n",
       "    <tr>\n",
       "      <th>564</th>\n",
       "      <td>Star Wars Ep. VII: The Force Awakens</td>\n",
       "      <td>2015-12-18</td>\n",
       "      <td>Adventure</td>\n",
       "      <td>PG-13</td>\n",
       "      <td>936662225</td>\n",
       "      <td>936662225</td>\n",
       "      <td>2015</td>\n",
       "    </tr>\n",
       "    <tr>\n",
       "      <th>4</th>\n",
       "      <td>Cinderella</td>\n",
       "      <td>1950-02-15</td>\n",
       "      <td>Drama</td>\n",
       "      <td>G</td>\n",
       "      <td>85000000</td>\n",
       "      <td>920608730</td>\n",
       "      <td>1950</td>\n",
       "    </tr>\n",
       "    <tr>\n",
       "      <th>13</th>\n",
       "      <td>The Jungle Book</td>\n",
       "      <td>1967-10-18</td>\n",
       "      <td>Musical</td>\n",
       "      <td>Not Rated</td>\n",
       "      <td>141843000</td>\n",
       "      <td>789612346</td>\n",
       "      <td>1967</td>\n",
       "    </tr>\n",
       "    <tr>\n",
       "      <th>179</th>\n",
       "      <td>The Lion King</td>\n",
       "      <td>1994-06-15</td>\n",
       "      <td>Adventure</td>\n",
       "      <td>G</td>\n",
       "      <td>422780140</td>\n",
       "      <td>761640898</td>\n",
       "      <td>1994</td>\n",
       "    </tr>\n",
       "  </tbody>\n",
       "</table>\n",
       "</div>"
      ],
      "text/plain": [
       "                              movie_title release_date      genre mpaa_rating  \\\n",
       "0         Snow White and the Seven Dwarfs   1937-12-21    Musical           G   \n",
       "1                               Pinocchio   1940-02-09  Adventure           G   \n",
       "2                                Fantasia   1940-11-13    Musical           G   \n",
       "8                          101 Dalmatians   1961-01-25     Comedy           G   \n",
       "6                      Lady and the Tramp   1955-06-22      Drama           G   \n",
       "3                       Song of the South   1946-11-12  Adventure           G   \n",
       "564  Star Wars Ep. VII: The Force Awakens   2015-12-18  Adventure       PG-13   \n",
       "4                              Cinderella   1950-02-15      Drama           G   \n",
       "13                        The Jungle Book   1967-10-18    Musical   Not Rated   \n",
       "179                         The Lion King   1994-06-15  Adventure           G   \n",
       "\n",
       "     total_gross  adjusted_gross  year  \n",
       "0      184925485      5228953251  1937  \n",
       "1       84300000      2188229052  1940  \n",
       "2       83320000      2187090808  1940  \n",
       "8      153000000      1362870985  1961  \n",
       "6       93600000      1236035515  1955  \n",
       "3       65000000      1078510579  1946  \n",
       "564    936662225       936662225  2015  \n",
       "4       85000000       920608730  1950  \n",
       "13     141843000       789612346  1967  \n",
       "179    422780140       761640898  1994  "
      ]
     },
     "execution_count": 91,
     "metadata": {},
     "output_type": "execute_result"
    }
   ],
   "source": [
    "disney_sorted_df"
   ]
  },
  {
   "cell_type": "code",
   "execution_count": 92,
   "id": "db047f3f",
   "metadata": {},
   "outputs": [],
   "source": [
    "z = disney_sorted_df.groupby(['genre'])['adjusted_gross'].sum()"
   ]
  },
  {
   "cell_type": "code",
   "execution_count": 93,
   "id": "d94a78ee",
   "metadata": {},
   "outputs": [
    {
     "data": {
      "text/html": [
       "<div>\n",
       "<style scoped>\n",
       "    .dataframe tbody tr th:only-of-type {\n",
       "        vertical-align: middle;\n",
       "    }\n",
       "\n",
       "    .dataframe tbody tr th {\n",
       "        vertical-align: top;\n",
       "    }\n",
       "\n",
       "    .dataframe thead th {\n",
       "        text-align: right;\n",
       "    }\n",
       "</style>\n",
       "<table border=\"1\" class=\"dataframe\">\n",
       "  <thead>\n",
       "    <tr style=\"text-align: right;\">\n",
       "      <th></th>\n",
       "      <th>genre</th>\n",
       "      <th>adjusted_gross</th>\n",
       "    </tr>\n",
       "  </thead>\n",
       "  <tbody>\n",
       "    <tr>\n",
       "      <th>0</th>\n",
       "      <td>Adventure</td>\n",
       "      <td>4965042754</td>\n",
       "    </tr>\n",
       "    <tr>\n",
       "      <th>1</th>\n",
       "      <td>Comedy</td>\n",
       "      <td>1362870985</td>\n",
       "    </tr>\n",
       "    <tr>\n",
       "      <th>2</th>\n",
       "      <td>Drama</td>\n",
       "      <td>2156644245</td>\n",
       "    </tr>\n",
       "    <tr>\n",
       "      <th>3</th>\n",
       "      <td>Musical</td>\n",
       "      <td>8205656405</td>\n",
       "    </tr>\n",
       "  </tbody>\n",
       "</table>\n",
       "</div>"
      ],
      "text/plain": [
       "       genre  adjusted_gross\n",
       "0  Adventure      4965042754\n",
       "1     Comedy      1362870985\n",
       "2      Drama      2156644245\n",
       "3    Musical      8205656405"
      ]
     },
     "execution_count": 93,
     "metadata": {},
     "output_type": "execute_result"
    }
   ],
   "source": [
    "z.reset_index()"
   ]
  },
  {
   "cell_type": "code",
   "execution_count": 94,
   "id": "70787751",
   "metadata": {},
   "outputs": [
    {
     "data": {
      "text/plain": [
       "<AxesSubplot:xlabel='genre'>"
      ]
     },
     "execution_count": 94,
     "metadata": {},
     "output_type": "execute_result"
    },
    {
     "data": {
      "image/png": "[encoded data removed]",
      "text/plain": [
       "<Figure size 432x288 with 1 Axes>"
      ]
     },
     "metadata": {
      "needs_background": "light"
     },
     "output_type": "display_data"
    }
   ],
   "source": [
    "z.plot(x = 'adjusted_gross', y='genre',kind = 'bar',log=True,color=['red','blue','green','purple'])"
   ]
  },
  {
   "cell_type": "code",
   "execution_count": 95,
   "id": "58a3a5bb",
   "metadata": {},
   "outputs": [
    {
     "data": {
      "text/plain": [
       "<AxesSubplot:ylabel='adjusted_gross'>"
      ]
     },
     "execution_count": 95,
     "metadata": {},
     "output_type": "execute_result"
    },
    {
     "data": {
      "image/png": "[encoded data removed]",
      "text/plain": [
       "<Figure size 432x288 with 1 Axes>"
      ]
     },
     "metadata": {},
     "output_type": "display_data"
    }
   ],
   "source": [
    "z.plot(x = 'adjusted_gross', y='genre',kind = 'pie')"
   ]
  },
  {
   "cell_type": "code",
   "execution_count": 96,
   "id": "121fd3fe",
   "metadata": {},
   "outputs": [],
   "source": [
    "z = disney_sorted_df.groupby(['year'])['adjusted_gross'].sum()"
   ]
  },
  {
   "cell_type": "code",
   "execution_count": 97,
   "id": "81ff37f3",
   "metadata": {},
   "outputs": [
    {
     "data": {
      "text/html": [
       "<div>\n",
       "<style scoped>\n",
       "    .dataframe tbody tr th:only-of-type {\n",
       "        vertical-align: middle;\n",
       "    }\n",
       "\n",
       "    .dataframe tbody tr th {\n",
       "        vertical-align: top;\n",
       "    }\n",
       "\n",
       "    .dataframe thead th {\n",
       "        text-align: right;\n",
       "    }\n",
       "</style>\n",
       "<table border=\"1\" class=\"dataframe\">\n",
       "  <thead>\n",
       "    <tr style=\"text-align: right;\">\n",
       "      <th></th>\n",
       "      <th>year</th>\n",
       "      <th>adjusted_gross</th>\n",
       "    </tr>\n",
       "  </thead>\n",
       "  <tbody>\n",
       "    <tr>\n",
       "      <th>0</th>\n",
       "      <td>1937</td>\n",
       "      <td>5228953251</td>\n",
       "    </tr>\n",
       "    <tr>\n",
       "      <th>1</th>\n",
       "      <td>1940</td>\n",
       "      <td>4375319860</td>\n",
       "    </tr>\n",
       "    <tr>\n",
       "      <th>2</th>\n",
       "      <td>1946</td>\n",
       "      <td>1078510579</td>\n",
       "    </tr>\n",
       "    <tr>\n",
       "      <th>3</th>\n",
       "      <td>1950</td>\n",
       "      <td>920608730</td>\n",
       "    </tr>\n",
       "    <tr>\n",
       "      <th>4</th>\n",
       "      <td>1955</td>\n",
       "      <td>1236035515</td>\n",
       "    </tr>\n",
       "    <tr>\n",
       "      <th>5</th>\n",
       "      <td>1961</td>\n",
       "      <td>1362870985</td>\n",
       "    </tr>\n",
       "    <tr>\n",
       "      <th>6</th>\n",
       "      <td>1967</td>\n",
       "      <td>789612346</td>\n",
       "    </tr>\n",
       "    <tr>\n",
       "      <th>7</th>\n",
       "      <td>1994</td>\n",
       "      <td>761640898</td>\n",
       "    </tr>\n",
       "    <tr>\n",
       "      <th>8</th>\n",
       "      <td>2015</td>\n",
       "      <td>936662225</td>\n",
       "    </tr>\n",
       "  </tbody>\n",
       "</table>\n",
       "</div>"
      ],
      "text/plain": [
       "   year  adjusted_gross\n",
       "0  1937      5228953251\n",
       "1  1940      4375319860\n",
       "2  1946      1078510579\n",
       "3  1950       920608730\n",
       "4  1955      1236035515\n",
       "5  1961      1362870985\n",
       "6  1967       789612346\n",
       "7  1994       761640898\n",
       "8  2015       936662225"
      ]
     },
     "execution_count": 97,
     "metadata": {},
     "output_type": "execute_result"
    }
   ],
   "source": [
    "z.reset_index()"
   ]
  },
  {
   "cell_type": "code",
   "execution_count": 98,
   "id": "a91713a0",
   "metadata": {},
   "outputs": [
    {
     "data": {
      "text/plain": [
       "<AxesSubplot:xlabel='year'>"
      ]
     },
     "execution_count": 98,
     "metadata": {},
     "output_type": "execute_result"
    },
    {
     "data": {
      "image/png": "[encoded data removed]",
      "text/plain": [
       "<Figure size 432x288 with 1 Axes>"
      ]
     },
     "metadata": {
      "needs_background": "light"
     },
     "output_type": "display_data"
    }
   ],
   "source": [
    "z.plot(x = 'adjusted_gross', y='genre',kind = 'bar',log=True,color=['red','blue','green','purple','black','teal','yellow','orange','grey'])"
   ]
  },
  {
   "cell_type": "code",
   "execution_count": 99,
   "id": "7e4d8dde",
   "metadata": {},
   "outputs": [
    {
     "data": {
      "text/plain": [
       "<AxesSubplot:ylabel='adjusted_gross'>"
      ]
     },
     "execution_count": 99,
     "metadata": {},
     "output_type": "execute_result"
    },
    {
     "data": {
      "image/png": "[encoded data removed]",
      "text/plain": [
       "<Figure size 432x288 with 1 Axes>"
      ]
     },
     "metadata": {},
     "output_type": "display_data"
    }
   ],
   "source": [
    "z.plot(x = 'adjusted_gross', y='year',kind = 'pie')"
   ]
  },
  {
   "cell_type": "code",
   "execution_count": null,
   "id": "84c344c6",
   "metadata": {},
   "outputs": [],
   "source": []
  },
  {
   "cell_type": "code",
   "execution_count": null,
   "id": "62ee4c0c",
   "metadata": {},
   "outputs": [],
   "source": [
    "#Q5\n",
    "\n",
    "\n",
    "#Q1: "
   ]
  }
 ],
 "metadata": {
  "kernelspec": {
   "display_name": "Python 3",
   "language": "python",
   "name": "python3"
  },
  "language_info": {
   "codemirror_mode": {
    "name": "ipython",
    "version": 3
   },
   "file_extension": ".py",
   "mimetype": "text/x-python",
   "name": "python",
   "nbconvert_exporter": "python",
   "pygments_lexer": "ipython3",
   "version": "3.8.8"
  }
 },
 "nbformat": 4,
 "nbformat_minor": 5
}
