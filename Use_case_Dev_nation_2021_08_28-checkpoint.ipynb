{
 "cells": [
  {
   "cell_type": "code",
   "execution_count": 98,
   "id": "d4de3534",
   "metadata": {},
   "outputs": [],
   "source": [
    "### exploratory data analysis on dev nations data set\n",
    "\n",
    "### loading the entire data\n",
    "\n",
    "import pandas as pd\n",
    "import numpy as np\n",
    "import matplotlib.pyplot as plt\n",
    "import csv\n",
    "import seaborn as sb\n",
    "\n",
    "\n",
    "dev_nation_csv = ['./data/day1.csv','./data/day2.csv','./data/day3.csv','./data/day4.csv','./data/day5.csv','./data/day6.csv','./data/day7.csv','./data/day8.csv','./data/day9.csv','./data/day10.csv','./data/day11.csv','./data/day12.csv','./data/day13.csv','./data/day14.csv','./data/day15.csv'] \n",
    "\n",
    "loaded_csv = []\n",
    "\n",
    "for i in range(len(dev_nation_csv)):\n",
    "    \n",
    "    temp_df = pd.read_csv(dev_nation_csv[i])\n",
    "    loaded_csv.append(temp_df)\n",
    "\n",
    "loaded_csv[1].head()\n",
    "#dev_nation_csv = pd.concat(map(pd.read_csv, ['./data/day1.csv','./data/day2.csv','./data/day3.csv','./data/day4.csv','./data/day5.csv','./data/day6.csv','./data/day7.csv','./data/day8.csv','./data/day9.csv','./data/day10.csv','./data/day11.csv','./data/day12.csv','./data/day13.csv','./data/day14.csv','./data/day15.csv'] \n",
    "))#\n"
   ]
  },
  {
   "cell_type": "code",
   "execution_count": 102,
   "id": "bb0e85f1",
   "metadata": {},
   "outputs": [
    {
     "name": "stdout",
     "output_type": "stream",
     "text": [
      "avg time spent per class on each day is given below starting from day 1 to day 15\n"
     ]
    },
    {
     "data": {
      "text/plain": [
       "[62.62068965517241,\n",
       " 67.3103448275862,\n",
       " 74.96428571428571,\n",
       " 88.88888888888889,\n",
       " 7.333333333333333,\n",
       " 77.56666666666666,\n",
       " 73.27586206896552,\n",
       " 57.523809523809526,\n",
       " 40.266666666666666,\n",
       " 22.428571428571427,\n",
       " 6.181818181818182,\n",
       " 8.714285714285714,\n",
       " 14.333333333333334,\n",
       " 6.333333333333333,\n",
       " 53.86363636363637]"
      ]
     },
     "execution_count": 102,
     "metadata": {},
     "output_type": "execute_result"
    }
   ],
   "source": [
    "\n",
    "    mean_data = []\n",
    "    for i in range(len(loaded_csv)):\n",
    "        temp_data = loaded_csv[i]['Total Duration (Minutes)'].mean()\n",
    "        mean_data.append(temp_data)\n",
    "    print('avg time spent per class on each day is given below starting from day 1 to day 15')\n",
    "    mean_data\n",
    "    #dev_nation_csv['Total Duration (Minutes)'].mean()"
   ]
  },
  {
   "cell_type": "code",
   "execution_count": 104,
   "id": "4c0b557a",
   "metadata": {},
   "outputs": [
    {
     "data": {
      "text/plain": [
       "(array([4., 1., 1., 0., 0., 0., 1., 0., 1., 1., 1., 1., 3., 0., 1.]),\n",
       " array([ 6.18181818, 11.6956229 , 17.20942761, 22.72323232, 28.23703704,\n",
       "        33.75084175, 39.26464646, 44.77845118, 50.29225589, 55.80606061,\n",
       "        61.31986532, 66.83367003, 72.34747475, 77.86127946, 83.37508418,\n",
       "        88.88888889]),\n",
       " <BarContainer object of 15 artists>)"
      ]
     },
     "execution_count": 104,
     "metadata": {},
     "output_type": "execute_result"
    },
    {
     "data": {
      "image/png": "[encoded data removed]",
      "text/plain": [
       "<Figure size 432x288 with 1 Axes>"
      ]
     },
     "metadata": {
      "needs_background": "light"
     },
     "output_type": "display_data"
    }
   ],
   "source": [
    "plt.hist(mean_data,15)"
   ]
  },
  {
   "cell_type": "code",
   "execution_count": 97,
   "id": "0f72373b",
   "metadata": {},
   "outputs": [
    {
     "data": {
      "text/plain": [
       "<AxesSubplot:>"
      ]
     },
     "execution_count": 97,
     "metadata": {},
     "output_type": "execute_result"
    },
    {
     "data": {
      "image/png": "[encoded data removed]",
      "text/plain": [
       "<Figure size 432x288 with 1 Axes>"
      ]
     },
     "metadata": {
      "needs_background": "light"
     },
     "output_type": "display_data"
    }
   ],
   "source": [
    "sb.lineplot(data = mean_data)"
   ]
  },
  {
   "cell_type": "code",
   "execution_count": 55,
   "id": "cc414c1e",
   "metadata": {},
   "outputs": [],
   "source": [
    "import pandas as pd"
   ]
  },
  {
   "cell_type": "code",
   "execution_count": 84,
   "id": "32336e4c",
   "metadata": {},
   "outputs": [],
   "source": [
    "df = pd.DataFrame(data = {'a':[1,2,3,4,4],\n",
    "                         'b':[2,3,4,5,4]})\n"
   ]
  },
  {
   "cell_type": "code",
   "execution_count": 88,
   "id": "9c2ca5b7",
   "metadata": {},
   "outputs": [
    {
     "ename": "ValueError",
     "evalue": "The truth value of a Series is ambiguous. Use a.empty, a.bool(), a.item(), a.any() or a.all().",
     "output_type": "error",
     "traceback": [
      "\u001b[1;31m---------------------------------------------------------------------------\u001b[0m",
      "\u001b[1;31mValueError\u001b[0m                                Traceback (most recent call last)",
      "\u001b[1;32m<ipython-input-88-af05e88e75de>\u001b[0m in \u001b[0;36m<module>\u001b[1;34m\u001b[0m\n\u001b[1;32m----> 1\u001b[1;33m \u001b[0mdf\u001b[0m\u001b[1;33m[\u001b[0m\u001b[1;34m'c'\u001b[0m\u001b[1;33m]\u001b[0m \u001b[1;33m=\u001b[0m \u001b[0mdf\u001b[0m\u001b[1;33m[\u001b[0m\u001b[1;34m'a'\u001b[0m\u001b[1;33m]\u001b[0m \u001b[1;33m==\u001b[0m \u001b[1;36m3\u001b[0m \u001b[1;32mand\u001b[0m \u001b[0mdf\u001b[0m\u001b[1;33m[\u001b[0m\u001b[1;34m'b'\u001b[0m\u001b[1;33m]\u001b[0m \u001b[1;33m==\u001b[0m \u001b[1;36m4\u001b[0m\u001b[1;33m\u001b[0m\u001b[1;33m\u001b[0m\u001b[0m\n\u001b[0m",
      "\u001b[1;32m~\\anaconda3\\lib\\site-packages\\pandas\\core\\generic.py\u001b[0m in \u001b[0;36m__nonzero__\u001b[1;34m(self)\u001b[0m\n\u001b[0;32m   1440\u001b[0m     \u001b[1;33m@\u001b[0m\u001b[0mfinal\u001b[0m\u001b[1;33m\u001b[0m\u001b[1;33m\u001b[0m\u001b[0m\n\u001b[0;32m   1441\u001b[0m     \u001b[1;32mdef\u001b[0m \u001b[0m__nonzero__\u001b[0m\u001b[1;33m(\u001b[0m\u001b[0mself\u001b[0m\u001b[1;33m)\u001b[0m\u001b[1;33m:\u001b[0m\u001b[1;33m\u001b[0m\u001b[1;33m\u001b[0m\u001b[0m\n\u001b[1;32m-> 1442\u001b[1;33m         raise ValueError(\n\u001b[0m\u001b[0;32m   1443\u001b[0m             \u001b[1;34mf\"The truth value of a {type(self).__name__} is ambiguous. \"\u001b[0m\u001b[1;33m\u001b[0m\u001b[1;33m\u001b[0m\u001b[0m\n\u001b[0;32m   1444\u001b[0m             \u001b[1;34m\"Use a.empty, a.bool(), a.item(), a.any() or a.all().\"\u001b[0m\u001b[1;33m\u001b[0m\u001b[1;33m\u001b[0m\u001b[0m\n",
      "\u001b[1;31mValueError\u001b[0m: The truth value of a Series is ambiguous. Use a.empty, a.bool(), a.item(), a.any() or a.all()."
     ]
    }
   ],
   "source": []
  },
  {
   "cell_type": "code",
   "execution_count": 86,
   "id": "4d9f4464",
   "metadata": {},
   "outputs": [],
   "source": []
  },
  {
   "cell_type": "code",
   "execution_count": 87,
   "id": "88ce6adb",
   "metadata": {},
   "outputs": [
    {
     "data": {
      "text/html": [
       "<div>\n",
       "<style scoped>\n",
       "    .dataframe tbody tr th:only-of-type {\n",
       "        vertical-align: middle;\n",
       "    }\n",
       "\n",
       "    .dataframe tbody tr th {\n",
       "        vertical-align: top;\n",
       "    }\n",
       "\n",
       "    .dataframe thead th {\n",
       "        text-align: right;\n",
       "    }\n",
       "</style>\n",
       "<table border=\"1\" class=\"dataframe\">\n",
       "  <thead>\n",
       "    <tr style=\"text-align: right;\">\n",
       "      <th></th>\n",
       "      <th>a</th>\n",
       "      <th>b</th>\n",
       "      <th>c</th>\n",
       "    </tr>\n",
       "  </thead>\n",
       "  <tbody>\n",
       "    <tr>\n",
       "      <th>0</th>\n",
       "      <td>1</td>\n",
       "      <td>2</td>\n",
       "      <td>False</td>\n",
       "    </tr>\n",
       "    <tr>\n",
       "      <th>1</th>\n",
       "      <td>2</td>\n",
       "      <td>3</td>\n",
       "      <td>False</td>\n",
       "    </tr>\n",
       "    <tr>\n",
       "      <th>2</th>\n",
       "      <td>3</td>\n",
       "      <td>4</td>\n",
       "      <td>True</td>\n",
       "    </tr>\n",
       "    <tr>\n",
       "      <th>3</th>\n",
       "      <td>4</td>\n",
       "      <td>5</td>\n",
       "      <td>False</td>\n",
       "    </tr>\n",
       "    <tr>\n",
       "      <th>4</th>\n",
       "      <td>4</td>\n",
       "      <td>4</td>\n",
       "      <td>True</td>\n",
       "    </tr>\n",
       "  </tbody>\n",
       "</table>\n",
       "</div>"
      ],
      "text/plain": [
       "   a  b      c\n",
       "0  1  2  False\n",
       "1  2  3  False\n",
       "2  3  4   True\n",
       "3  4  5  False\n",
       "4  4  4   True"
      ]
     },
     "execution_count": 87,
     "metadata": {},
     "output_type": "execute_result"
    }
   ],
   "source": [
    "df"
   ]
  },
  {
   "cell_type": "code",
   "execution_count": null,
   "id": "c7f8c313",
   "metadata": {},
   "outputs": [],
   "source": []
  }
 ],
 "metadata": {
  "kernelspec": {
   "display_name": "Python 3",
   "language": "python",
   "name": "python3"
  },
  "language_info": {
   "codemirror_mode": {
    "name": "ipython",
    "version": 3
   },
   "file_extension": ".py",
   "mimetype": "text/x-python",
   "name": "python",
   "nbconvert_exporter": "python",
   "pygments_lexer": "ipython3",
   "version": "3.8.8"
  }
 },
 "nbformat": 4,
 "nbformat_minor": 5
}
