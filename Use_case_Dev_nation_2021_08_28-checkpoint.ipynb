{
 "cells": [
  {
   "cell_type": "code",
   "execution_count": 159,
   "id": "d4de3534",
   "metadata": {},
   "outputs": [
    {
     "data": {
      "text/html": [
       "<div>\n",
       "<style scoped>\n",
       "    .dataframe tbody tr th:only-of-type {\n",
       "        vertical-align: middle;\n",
       "    }\n",
       "\n",
       "    .dataframe tbody tr th {\n",
       "        vertical-align: top;\n",
       "    }\n",
       "\n",
       "    .dataframe thead th {\n",
       "        text-align: right;\n",
       "    }\n",
       "</style>\n",
       "<table border=\"1\" class=\"dataframe\">\n",
       "  <thead>\n",
       "    <tr style=\"text-align: right;\">\n",
       "      <th></th>\n",
       "      <th>Name (Original Name)</th>\n",
       "      <th>User Email</th>\n",
       "      <th>Total Duration (Minutes)</th>\n",
       "      <th>Guest</th>\n",
       "    </tr>\n",
       "  </thead>\n",
       "  <tbody>\n",
       "    <tr>\n",
       "      <th>0</th>\n",
       "      <td>Syeda Samina Bukhari</td>\n",
       "      <td>aousiq786@gmail.com</td>\n",
       "      <td>27</td>\n",
       "      <td>Yes</td>\n",
       "    </tr>\n",
       "    <tr>\n",
       "      <th>1</th>\n",
       "      <td>Ali Ghazi</td>\n",
       "      <td>ali.ghazi.muzaffar@gmail.com</td>\n",
       "      <td>70</td>\n",
       "      <td>Yes</td>\n",
       "    </tr>\n",
       "    <tr>\n",
       "      <th>2</th>\n",
       "      <td>wahab waris</td>\n",
       "      <td>wahabwaris1122@gmail.com</td>\n",
       "      <td>74</td>\n",
       "      <td>Yes</td>\n",
       "    </tr>\n",
       "    <tr>\n",
       "      <th>3</th>\n",
       "      <td>Aman Mohsin</td>\n",
       "      <td>amanmohsin250@gmail.com</td>\n",
       "      <td>75</td>\n",
       "      <td>Yes</td>\n",
       "    </tr>\n",
       "    <tr>\n",
       "      <th>4</th>\n",
       "      <td>018 Huzaifah Habib</td>\n",
       "      <td>huzaifahhabib9@gmail.com</td>\n",
       "      <td>70</td>\n",
       "      <td>Yes</td>\n",
       "    </tr>\n",
       "  </tbody>\n",
       "</table>\n",
       "</div>"
      ],
      "text/plain": [
       "   Name (Original Name)                    User Email  \\\n",
       "0  Syeda Samina Bukhari           aousiq786@gmail.com   \n",
       "1             Ali Ghazi  ali.ghazi.muzaffar@gmail.com   \n",
       "2           wahab waris      wahabwaris1122@gmail.com   \n",
       "3           Aman Mohsin       amanmohsin250@gmail.com   \n",
       "4    018 Huzaifah Habib      huzaifahhabib9@gmail.com   \n",
       "\n",
       "   Total Duration (Minutes) Guest  \n",
       "0                        27   Yes  \n",
       "1                        70   Yes  \n",
       "2                        74   Yes  \n",
       "3                        75   Yes  \n",
       "4                        70   Yes  "
      ]
     },
     "execution_count": 159,
     "metadata": {},
     "output_type": "execute_result"
    }
   ],
   "source": [
    "### exploratory data analysis on dev nations data set\n",
    "\n",
    "### loading the entire data\n",
    "\n",
    "import pandas as pd\n",
    "import numpy as np\n",
    "import matplotlib.pyplot as plt\n",
    "import csv\n",
    "import seaborn as sb\n",
    "import functools\n",
    "from functools import reduce\n",
    "\n",
    "\n",
    "dev_nation_csv = ['./data/day1.csv','./data/day2.csv','./data/day3.csv','./data/day4.csv','./data/day5.csv','./data/day6.csv','./data/day7.csv','./data/day8.csv','./data/day9.csv','./data/day10.csv','./data/day11.csv','./data/day12.csv','./data/day13.csv','./data/day14.csv','./data/day15.csv'] \n",
    "\n",
    "loaded_csv = []\n",
    "\n",
    "for i in range(len(dev_nation_csv)):\n",
    "    \n",
    "    temp_df = pd.read_csv(dev_nation_csv[i])\n",
    "    loaded_csv.append(temp_df)\n",
    "\n",
    "loaded_csv[1].head()\n",
    "#dev_nation_csv = pd.concat(map(pd.read_csv, ['./data/day1.csv','./data/day2.csv','./data/day3.csv','./data/day4.csv','./data/day5.csv','./data/day6.csv','./data/day7.csv','./data/day8.csv','./data/day9.csv','./data/day10.csv','./data/day11.csv','./data/day12.csv','./data/day13.csv','./data/day14.csv','./data/day15.csv'] \n",
    "#))\n"
   ]
  },
  {
   "cell_type": "code",
   "execution_count": 160,
   "id": "bb0e85f1",
   "metadata": {},
   "outputs": [
    {
     "name": "stdout",
     "output_type": "stream",
     "text": [
      "avg time spent per class on each day is given below starting from day 1 to day 15\n"
     ]
    },
    {
     "data": {
      "text/plain": [
       "[62.62068965517241,\n",
       " 67.3103448275862,\n",
       " 74.96428571428571,\n",
       " 88.88888888888889,\n",
       " 7.333333333333333,\n",
       " 77.56666666666666,\n",
       " 73.27586206896552,\n",
       " 57.523809523809526,\n",
       " 40.266666666666666,\n",
       " 22.428571428571427,\n",
       " 6.181818181818182,\n",
       " 8.714285714285714,\n",
       " 14.333333333333334,\n",
       " 6.333333333333333,\n",
       " 53.86363636363637]"
      ]
     },
     "execution_count": 160,
     "metadata": {},
     "output_type": "execute_result"
    }
   ],
   "source": [
    "\n",
    "    mean_data = []\n",
    "    for i in range(len(loaded_csv)):\n",
    "        temp_data = loaded_csv[i]['Total Duration (Minutes)'].mean()\n",
    "        mean_data.append(temp_data)\n",
    "    print('avg time spent per class on each day is given below starting from day 1 to day 15')\n",
    "    mean_data\n",
    "    "
   ]
  },
  {
   "cell_type": "code",
   "execution_count": 161,
   "id": "cc414c1e",
   "metadata": {},
   "outputs": [
    {
     "data": {
      "text/plain": [
       "<AxesSubplot:>"
      ]
     },
     "execution_count": 161,
     "metadata": {},
     "output_type": "execute_result"
    },
    {
     "data": {
      "image/png": "[encoded data removed]",
      "text/plain": [
       "<Figure size 432x288 with 1 Axes>"
      ]
     },
     "metadata": {
      "needs_background": "light"
     },
     "output_type": "display_data"
    }
   ],
   "source": [
    "sb.lineplot(data = mean_data)"
   ]
  },
  {
   "cell_type": "code",
   "execution_count": 165,
   "id": "32336e4c",
   "metadata": {},
   "outputs": [],
   "source": [
    "#Q3\n",
    "\n",
    "#merged_df\n"
   ]
  },
  {
   "cell_type": "code",
   "execution_count": null,
   "id": "9c2ca5b7",
   "metadata": {},
   "outputs": [],
   "source": []
  },
  {
   "cell_type": "code",
   "execution_count": 86,
   "id": "4d9f4464",
   "metadata": {},
   "outputs": [],
   "source": []
  },
  {
   "cell_type": "code",
   "execution_count": null,
   "id": "88ce6adb",
   "metadata": {},
   "outputs": [],
   "source": []
  },
  {
   "cell_type": "code",
   "execution_count": null,
   "id": "c7f8c313",
   "metadata": {},
   "outputs": [],
   "source": []
  }
 ],
 "metadata": {
  "kernelspec": {
   "display_name": "Python 3",
   "language": "python",
   "name": "python3"
  },
  "language_info": {
   "codemirror_mode": {
    "name": "ipython",
    "version": 3
   },
   "file_extension": ".py",
   "mimetype": "text/x-python",
   "name": "python",
   "nbconvert_exporter": "python",
   "pygments_lexer": "ipython3",
   "version": "3.8.8"
  }
 },
 "nbformat": 4,
 "nbformat_minor": 5
}
